{
 "cells": [
  {
   "cell_type": "code",
   "execution_count": 1,
   "id": "fedb2147-6103-4299-863f-bab4e9ac1821",
   "metadata": {},
   "outputs": [],
   "source": [
    "import pandas as pd\n",
    "import numpy as np\n",
    "from sklearn.metrics.pairwise import cosine_similarity\n",
    "from sklearn.preprocessing import OneHotEncoder\n",
    "import joblib"
   ]
  },
  {
   "cell_type": "code",
   "execution_count": 2,
   "id": "ac4200f0-5fb5-4f94-beaf-c8296ba027eb",
   "metadata": {},
   "outputs": [],
   "source": [
    "# Load the datasets\n",
    "customers_path = 'Customers.csv'\n",
    "products_path = 'Products.csv'\n",
    "transactions_path = 'Transactions.csv'"
   ]
  },
  {
   "cell_type": "code",
   "execution_count": 3,
   "id": "61d4009d-4114-4d91-8401-571e1269858b",
   "metadata": {},
   "outputs": [],
   "source": [
    "customers_df = pd.read_csv(customers_path)\n",
    "products_df = pd.read_csv(products_path)\n",
    "transactions_df = pd.read_csv(transactions_path)"
   ]
  },
  {
   "cell_type": "code",
   "execution_count": 4,
   "id": "07595e33-538f-4995-b515-ec0de0837494",
   "metadata": {},
   "outputs": [],
   "source": [
    "# Merge datasets to create a unified dataset\n",
    "merged_df = transactions_df.merge(customers_df, on=\"CustomerID\", how=\"left\")\n",
    "merged_df = merged_df.merge(products_df, on=\"ProductID\", how=\"left\")"
   ]
  },
  {
   "cell_type": "code",
   "execution_count": 5,
   "id": "50b026d0-07a8-4264-b28e-cac62be1d2d8",
   "metadata": {},
   "outputs": [],
   "source": [
    "# Aggregate transaction data to create customer-product interaction\n",
    "customer_product_matrix = merged_df.groupby(['CustomerID', 'ProductID']).agg({\n",
    "    'Quantity': 'sum',\n",
    "    'TotalValue': 'sum'\n",
    "}).reset_index()"
   ]
  },
  {
   "cell_type": "code",
   "execution_count": 6,
   "id": "f9d9ad7c-e017-4959-a1c1-d54c5734e53a",
   "metadata": {},
   "outputs": [],
   "source": [
    "# Pivot table for customer-product matrix\n",
    "interaction_matrix = customer_product_matrix.pivot(index='CustomerID', columns='ProductID', values='TotalValue').fillna(0)"
   ]
  },
  {
   "cell_type": "code",
   "execution_count": 7,
   "id": "e7d06053-07bf-4b7e-9298-52e5c26b8fca",
   "metadata": {},
   "outputs": [],
   "source": [
    "# Add customer-specific features (e.g., Region and SignupDate)\n",
    "customers_df['SignupDate'] = pd.to_datetime(customers_df['SignupDate'])\n",
    "customers_df['DaysSinceSignup'] = (pd.Timestamp.now() - customers_df['SignupDate']).dt.days"
   ]
  },
  {
   "cell_type": "code",
   "execution_count": 8,
   "id": "f154d10a-a2fc-4556-ac5f-8c9e921d7af8",
   "metadata": {},
   "outputs": [],
   "source": [
    "encoder = OneHotEncoder(sparse_output=False, handle_unknown='ignore')\n",
    "regions_encoded = encoder.fit_transform(customers_df[['Region']])\n",
    "region_feature_names = encoder.get_feature_names_out(['Region'])\n",
    "regions_df = pd.DataFrame(regions_encoded, columns=region_feature_names, index=customers_df['CustomerID'])"
   ]
  },
  {
   "cell_type": "code",
   "execution_count": 9,
   "id": "19f598a3-af00-4716-855d-75b8ae2f6bde",
   "metadata": {},
   "outputs": [],
   "source": [
    "# Combine interaction matrix with customer features\n",
    "final_features = interaction_matrix.join(regions_df).join(customers_df.set_index('CustomerID')['DaysSinceSignup'])\n",
    "final_features = final_features.fillna(0)"
   ]
  },
  {
   "cell_type": "code",
   "execution_count": 10,
   "id": "729618c4-a0a6-404d-90f1-de31aa86f677",
   "metadata": {},
   "outputs": [
    {
     "data": {
      "text/plain": [
       "['customer_features.pkl']"
      ]
     },
     "execution_count": 10,
     "metadata": {},
     "output_type": "execute_result"
    }
   ],
   "source": [
    "# Save the preprocessed feature matrix for future use\n",
    "joblib.dump(final_features, \"customer_features.pkl\")"
   ]
  },
  {
   "cell_type": "code",
   "execution_count": 11,
   "id": "74258529-15bf-493b-b27f-c70fdd4f52b1",
   "metadata": {},
   "outputs": [],
   "source": [
    "# Compute cosine similarity between customers\n",
    "similarity_matrix = cosine_similarity(final_features)\n",
    "similarity_df = pd.DataFrame(similarity_matrix, index=final_features.index, columns=final_features.index)"
   ]
  },
  {
   "cell_type": "code",
   "execution_count": 12,
   "id": "05040bf1-6df1-4cf1-954d-af675dae3b7d",
   "metadata": {},
   "outputs": [
    {
     "data": {
      "text/plain": [
       "['similarity_matrix.pkl']"
      ]
     },
     "execution_count": 12,
     "metadata": {},
     "output_type": "execute_result"
    }
   ],
   "source": [
    "# Save the similarity matrix for dynamic use\n",
    "joblib.dump(similarity_matrix, \"similarity_matrix.pkl\")"
   ]
  },
  {
   "cell_type": "code",
   "execution_count": 13,
   "id": "5143e196-bbd8-4484-9912-c18210c3c25c",
   "metadata": {},
   "outputs": [],
   "source": [
    "# Function to get top N similar customers for each customer\n",
    "def get_top_similar_customers(similarity_df, top_n=3):\n",
    "    lookalike_map = {}\n",
    "    for customer_id in similarity_df.index:\n",
    "        similar_customers = similarity_df.loc[customer_id].sort_values(ascending=False).iloc[1:top_n+1]\n",
    "        lookalike_map[customer_id] = list(zip(similar_customers.index, similar_customers.values))\n",
    "    return lookalike_map"
   ]
  },
  {
   "cell_type": "code",
   "execution_count": 14,
   "id": "de7955a9-c9c3-4edc-a472-bb60645cffaa",
   "metadata": {},
   "outputs": [],
   "source": [
    "# Get top 3 similar customers for the first 20 customers (C0001 to C0020)\n",
    "first_20_customers = final_features.index[:20]\n",
    "lookalike_map = {cust_id: get_top_similar_customers(similarity_df.loc[[cust_id]], top_n=3) for cust_id in first_20_customers}"
   ]
  },
  {
   "cell_type": "code",
   "execution_count": 15,
   "id": "f951758e-3e0e-4fb5-a9a8-cf02168da17c",
   "metadata": {},
   "outputs": [],
   "source": [
    "# Convert the lookalike map to the required CSV format\n",
    "lookalike_list = []\n",
    "for cust_id, similar_customers in lookalike_map.items():\n",
    "    lookalike_list.append({\n",
    "        'CustomerID': cust_id,\n",
    "        'Lookalikes': similar_customers[cust_id]\n",
    "    })\n",
    "\n",
    "lookalike_df = pd.DataFrame(lookalike_list)"
   ]
  },
  {
   "cell_type": "code",
   "execution_count": 16,
   "id": "735d6f8e-cca0-4ea9-8eb8-0461acffbb7f",
   "metadata": {},
   "outputs": [
    {
     "name": "stdout",
     "output_type": "stream",
     "text": [
      "Rakshit_Anand_Lookalike.csv has been generated!\n"
     ]
    }
   ],
   "source": [
    "# Save to Lookalike.csv\n",
    "lookalike_df.to_csv('Rakshit_Anand_Lookalike.csv', index=False)\n",
    "\n",
    "print(\"Rakshit_Anand_Lookalike.csv has been generated!\")"
   ]
  },
  {
   "cell_type": "code",
   "execution_count": 17,
   "id": "2ffdea95-f70d-476d-9912-309a81301ae2",
   "metadata": {},
   "outputs": [],
   "source": [
    "# Real-Time Lookalike Function\n",
    "def encode_region(region):\n",
    "    region_vector = [1 if f\"Region_{region}\" == r else 0 for r in region_feature_names]\n",
    "    return region_vector\n",
    "\n",
    "# Real-time function to find lookalikes\n",
    "def get_lookalikes(region, signup_date, transactions):\n",
    "    \"\"\"\n",
    "    Parameters:\n",
    "        region (str): Region of the customer (e.g., \"South America\").\n",
    "        signup_date (str): Signup date in \"YYYY-MM-DD\" format.\n",
    "        transactions (dict): Dictionary of ProductID: TotalValue.\n",
    "        \n",
    "    Returns:\n",
    "        dict: Top 3 similar customers with similarity scores.\n",
    "    \"\"\"\n",
    "    # One-hot encode the region\n",
    "    region_vector = encode_region(region)\n",
    "    \n",
    "    # Calculate days since signup\n",
    "    days_since_signup = (pd.Timestamp.now() - pd.to_datetime(signup_date)).days\n",
    "    \n",
    "    # Create an interaction vector for the customer's transactions\n",
    "    transactions_vector = np.zeros(final_features.shape[1] - len(region_feature_names) - 1)\n",
    "    for product_id, total_value in transactions.items():\n",
    "        if product_id in interaction_matrix.columns:\n",
    "            transactions_vector[interaction_matrix.columns.get_loc(product_id)] = total_value\n",
    "    \n",
    "    # Combine all features into a single vector\n",
    "    input_vector = np.concatenate((transactions_vector, region_vector, [days_since_signup]))\n",
    "    \n",
    "    # Compute similarity scores\n",
    "    input_similarity = cosine_similarity([input_vector], final_features)[0]\n",
    "    \n",
    "    # Get top 3 similar customers (excluding the customer itself)\n",
    "    similar_customers = sorted(\n",
    "        [(final_features.index[i], score) for i, score in enumerate(input_similarity)],\n",
    "        key=lambda x: x[1],\n",
    "        reverse=True\n",
    "    )[:3]\n",
    "    \n",
    "    return {\"Top3_Lookalikes\": similar_customers}"
   ]
  },
  {
   "cell_type": "code",
   "execution_count": 18,
   "id": "8b7bd55a-775e-4622-ba63-fca16b066ecd",
   "metadata": {},
   "outputs": [
    {
     "name": "stdout",
     "output_type": "stream",
     "text": [
      "Real-Time Lookalike Output: {'Top3_Lookalikes': [('C0060', 0.9787963513061018), ('C0097', 0.9301140317457236), ('C0083', 0.9089302020490774)]}\n"
     ]
    }
   ],
   "source": [
    "# Example real-time usage\n",
    "example_input = {\n",
    "    \"region\": \"South America\",\n",
    "    \"signup_date\": \"2021-06-10\",  \n",
    "    \"transactions\": {\n",
    "        \"P003\": 150.0,  \n",
    "        \"P007\": 200.0,  \n",
    "        \"P010\": 50.0    \n",
    "    }\n",
    "}\n",
    "\n",
    "real_time_output = get_lookalikes(\n",
    "    region=example_input[\"region\"],\n",
    "    signup_date=example_input[\"signup_date\"],\n",
    "    transactions=example_input[\"transactions\"]\n",
    ")\n",
    "\n",
    "print(\"Real-Time Lookalike Output:\", real_time_output)"
   ]
  }
 ],
 "metadata": {
  "kernelspec": {
   "display_name": "Python 3 (ipykernel)",
   "language": "python",
   "name": "python3"
  },
  "language_info": {
   "codemirror_mode": {
    "name": "ipython",
    "version": 3
   },
   "file_extension": ".py",
   "mimetype": "text/x-python",
   "name": "python",
   "nbconvert_exporter": "python",
   "pygments_lexer": "ipython3",
   "version": "3.12.5"
  }
 },
 "nbformat": 4,
 "nbformat_minor": 5
}
